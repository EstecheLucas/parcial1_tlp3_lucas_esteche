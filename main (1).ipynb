{
 "cells": [
  {
   "cell_type": "markdown",
   "id": "9fee5ee9",
   "metadata": {},
   "source": [
    "# Examen Parcial n°1 2da Parte - TLP3 - Python para Ciencia de Datos.\n"
   ]
  },
  {
   "cell_type": "markdown",
   "id": "999099d0",
   "metadata": {},
   "source": [
    "**A partir del datasets brindado, realizar los siguientes procedimientos:**\n",
    "\n",
    "* Importar datasets con Pandas.\n",
    "* Explorar los datos con los metodos correspondientes. \n",
    "* Limpieza de los datos (Normalización de datos).\n",
    "* Obtener estadisticas.\n",
    "* Mostrar los datos procesados con graficos utilizando la libreria Matplotlib.\n",
    "* Exportar el contenido a un archivo sqlite utilizando PANDAS.\n",
    "\n",
    "\n",
    "**Importante: Se debe documentar cada procedimiento realizado, siguiendo la siguiente estructura:**\n",
    "\n",
    "1. Celda de Markdown (Documentación)\n",
    "2. Código (Sin comentarios, se debe documentar lo sufiente solo en la celda de markdown).\n",
    "\n",
    "\n",
    "### Criterios de Evaluación:\n",
    "\n",
    "1. No esta permitido el uso de IAs durante el examen. (Desactivar Copilot o cualquier herramienta de IA para autocompletar codigo.)\n",
    "\n",
    "2. Se deben utilizar nombres de variables descriptivos y claros (Utilizar la nomeclatura correspondiente para los nombres de variables).\n",
    "\n",
    "3. Comentarios claros y concisos que expliquen el propósito de cada sección del código en una celda de markdown antes del código.\n",
    "\n",
    "4. Utilizar mensajes de commit descriptivos. (Puedes utilizar la extension CONVENTIONAL COMMIT de VS-CODE).\n",
    "\n",
    "5. Entrega en tiempo y forma (Parciales entregados fuera de hora o con commits pasados el horario de entrega quedará invalidado.)\n",
    "\n",
    "6. Todo el código desarrollado debe ser subido a un repositorio en GitHub (el nombre del repositorio de seguir la siguiente estructura: \n",
    "**parcial1_tlp3_nombre_apellido**).\n",
    "\n",
    "7. Para resolver las actividades se debe insertar casillas de codigo entre cada actividad del cuaderno de Jupyter.\n",
    "\n",
    "8. Deben trabajar con el datasets adjunto.\n",
    "\n",
    "9. Una vez finalizado el examen, los resultados deben quedar guardados debajo de cada celda (NO EJECUTAR LA OPCIÓN \"borrar todas las salidas\").\n",
    "\n",
    "**Importante:** Una vez finalizado el examen, marcar como completado en el classroom."
   ]
  },
  {
   "cell_type": "markdown",
   "id": "dd91f969",
   "metadata": {},
   "source": [
    "## Actividades: \n",
    "### 1. Importación del Dataset con Pandas\n",
    "\n",
    "En esta sección, se debe utilizar la librería Pandas para cargar el archivo CSV que contiene los datos de VOTACIONES en un Datasets.\n",
    "\n",
    "### 2. Exploración Inicial de los Datos\n",
    "\n",
    "A continuación, se deben emplear métodos de Pandas para obtener una visión general del dataset. \n",
    "- 2.1: Visualizar las primeras filas y ultimas.\n",
    "- 2.2: Obtener informacion del df con su metodo correspondiente.\n",
    "- 2.3: Hacer un conteo de valores nulos.\n",
    "\n",
    "### 3. Limpieza y Normalización de los Datos\n",
    "\n",
    "- 3.1. Esta etapa crucial deben aplicar la corrección de diversos errores presentes en el dataset. Se abordarán los valores faltantes (Deben aplicar los metodos que ustedes crean convenientes **(Solo 1)**, por ejemplo: Eliminación de filas, cubrir valores con media, mediana, etc.)\n",
    "- 3.2: La columna Fecha deberan pasarla al tipo datetime con su metodo correspondiente.\n",
    "- 3.3: Corregir las mayusculas en el caso de Nombre y Apellido (Si es que corresponde.)\n",
    "- 3.4: En el caso de los votos, aplicar mayusculas a cada fila.\n",
    "- 3.5 EL campo DNI debe ser del tipo INT.\n",
    "\n",
    "\n",
    "### 4. Obtención de Estadísticas Descriptivas\n",
    "\n",
    "Después de la limpieza, deben hacer lo siguiente: \n",
    "\n",
    "- 4.1: calcular nuevamente las estadísticas descriptivas para observar el impacto del proceso de limpieza en los datos numéricos.\n",
    "- 4.2: Calcular estadísticas específicas por grupo (Agrupar dos columnas).\n",
    "\n",
    "### 5. Visualización de los Datos con Matplotlib\n",
    "\n",
    "En esta sección, deben utilizar la librería Matplotlib para crear **UNA** visualización que permitan comprender mejor los datos de ventas.El grafico es a elección, puede crear **UNO** de los siguientes: histogramas, diagramas de dispersión, gráficos de barras y graficos de torta.\n",
    "\n",
    "### 6. Exportación a Archivo SQLite\n",
    "\n",
    "Finalmente, deben utilizar la funcionalidad de Pandas para guardar el DataFrame procesado en una base de datos SQLite. Deben hacer una conexión y hacer una consulta para ver si los datos fueron cargados correctamente.\n",
    "\n"
   ]
  },
  {
   "cell_type": "markdown",
   "id": "bc0bed34",
   "metadata": {},
   "source": [
    "***ACTIVIDAD 1***\n",
    "Se importo las librerias necesarias y se mostró las primeras filas del dataset"
   ]
  },
  {
   "cell_type": "code",
   "execution_count": 5,
   "id": "92347d49",
   "metadata": {},
   "outputs": [
    {
     "name": "stdout",
     "output_type": "stream",
     "text": [
      "    nombre apellido         dni     provincia  voto fecha_votacion\n",
      "0  pánfilo    pombo  34787190.0  buenos aires  nulo     2024-11-22\n",
      "1   albina  heredia  48336819.0      santa fe  nulo     2024-04-24\n",
      "2      NaN   solano  49179364.0       neuquen  nulo     2024-05-20\n",
      "3   salomé   barrio  43725639.0  buenos aires   NaN     05-06-2024\n",
      "4   matías  esteban  30599927.0         chaco    no     10-07-2023\n"
     ]
    }
   ],
   "source": [
    "import pandas as pd\n",
    "import numpy as np\n",
    "import sqlite3\n",
    "\n",
    "\n",
    "df = pd.read_csv('votaciones.csv')\n",
    "\n",
    "print(df.head())"
   ]
  },
  {
   "cell_type": "markdown",
   "id": "2df77133",
   "metadata": {},
   "source": [
    "***ACTIVIDAD 2***\n",
    "\n",
    "Se mostró las primeras y ultomas filas con head y tail, se obtuvo informacion del df con su metodo correspondiente y se hizo un conteo de valores nulos"
   ]
  },
  {
   "cell_type": "code",
   "execution_count": 9,
   "id": "06e17352",
   "metadata": {},
   "outputs": [
    {
     "name": "stdout",
     "output_type": "stream",
     "text": [
      "<bound method NDFrame.head of        nombre apellido         dni     provincia  voto fecha_votacion\n",
      "0     pánfilo    pombo  34787190.0  buenos aires  nulo     2024-11-22\n",
      "1      albina  heredia  48336819.0      santa fe  nulo     2024-04-24\n",
      "2         NaN   solano  49179364.0       neuquen  nulo     2024-05-20\n",
      "3      salomé   barrio  43725639.0  buenos aires   NaN     05-06-2024\n",
      "4      matías  esteban  30599927.0         chaco    no     10-07-2023\n",
      "..        ...      ...         ...           ...   ...            ...\n",
      "96      carla    vidal  15161718.0      misiones  nulo     2023-09-12\n",
      "97   federico  barrios  16171819.0       neuquen    no     11-09-2023\n",
      "98      belen     vera  17181920.0       tucuman    sí     2023-09-10\n",
      "99    gustavo    gauna  18192021.0      santa fe  nulo     09-09-2023\n",
      "100     rocio    avila  19202122.0       formosa    no     08-09-2023\n",
      "\n",
      "[101 rows x 6 columns]>\n",
      "<bound method NDFrame.tail of        nombre apellido         dni     provincia  voto fecha_votacion\n",
      "0     pánfilo    pombo  34787190.0  buenos aires  nulo     2024-11-22\n",
      "1      albina  heredia  48336819.0      santa fe  nulo     2024-04-24\n",
      "2         NaN   solano  49179364.0       neuquen  nulo     2024-05-20\n",
      "3      salomé   barrio  43725639.0  buenos aires   NaN     05-06-2024\n",
      "4      matías  esteban  30599927.0         chaco    no     10-07-2023\n",
      "..        ...      ...         ...           ...   ...            ...\n",
      "96      carla    vidal  15161718.0      misiones  nulo     2023-09-12\n",
      "97   federico  barrios  16171819.0       neuquen    no     11-09-2023\n",
      "98      belen     vera  17181920.0       tucuman    sí     2023-09-10\n",
      "99    gustavo    gauna  18192021.0      santa fe  nulo     09-09-2023\n",
      "100     rocio    avila  19202122.0       formosa    no     08-09-2023\n",
      "\n",
      "[101 rows x 6 columns]>\n",
      "<class 'pandas.core.frame.DataFrame'>\n",
      "RangeIndex: 101 entries, 0 to 100\n",
      "Data columns (total 6 columns):\n",
      " #   Column          Non-Null Count  Dtype  \n",
      "---  ------          --------------  -----  \n",
      " 0   nombre          91 non-null     object \n",
      " 1   apellido        94 non-null     object \n",
      " 2   dni             90 non-null     float64\n",
      " 3   provincia       95 non-null     object \n",
      " 4   voto            96 non-null     object \n",
      " 5   fecha_votacion  95 non-null     object \n",
      "dtypes: float64(1), object(5)\n",
      "memory usage: 4.9+ KB\n",
      "None\n",
      "                dni\n",
      "count  9.000000e+01\n",
      "mean   3.864910e+07\n",
      "std    2.400198e+07\n",
      "min    1.011121e+07\n",
      "25%    1.982167e+07\n",
      "50%    3.319309e+07\n",
      "75%    4.886738e+07\n",
      "max    9.900112e+07\n",
      "nombre            10\n",
      "apellido           7\n",
      "dni               11\n",
      "provincia          6\n",
      "voto               5\n",
      "fecha_votacion     6\n",
      "dtype: int64\n"
     ]
    }
   ],
   "source": [
    "\n",
    "print(df.head)\n",
    "print(df.tail)\n",
    "print(df.info())\n",
    "\n",
    "print(df.describe())\n",
    "\n",
    "print(df.isnull().sum())\n",
    "\n"
   ]
  },
  {
   "cell_type": "markdown",
   "id": "23abf179",
   "metadata": {},
   "source": [
    "***ACTIVIDAD 3***\n",
    "\n",
    "Eliminamos los valores nulos, cambiamos nombre, apellido y votos a mayuscula, convertimos dni a entero, se pudo solucionar el formato de las fechas"
   ]
  },
  {
   "cell_type": "code",
   "execution_count": 22,
   "id": "c1ed772d",
   "metadata": {},
   "outputs": [
    {
     "name": "stdout",
     "output_type": "stream",
     "text": [
      "Index(['nombre', 'apellido', 'dni', 'provincia', 'voto', 'fecha_votacion'], dtype='object')\n"
     ]
    },
    {
     "name": "stderr",
     "output_type": "stream",
     "text": [
      "C:\\Users\\IPF-2025\\AppData\\Local\\Temp\\ipykernel_5576\\2115529050.py:14: UserWarning: Parsing dates in %Y-%m-%d format when dayfirst=True was specified. Pass `dayfirst=False` or specify a format to silence this warning.\n",
      "  df[\"fecha_votacion\"] = pd.to_datetime(df[\"fecha_votacion\"],dayfirst=True, errors=\"coerce\")\n"
     ]
    }
   ],
   "source": [
    "print(df.columns)\n",
    "\n",
    "df = df.dropna()\n",
    "\n",
    "df[\"nombre\"] = df[\"nombre\"].str.capitalize\n",
    "df[\"apellido\"] = df[\"apellido\"].str.capitalize\n",
    "\n",
    "df[\"voto\"] = df[\"voto\"].str.upper()\n",
    "\n",
    "\n",
    "\n",
    "df[\"dni\"] = df[\"dni\"].astype(int)\n",
    "\n",
    "df[\"fecha_votacion\"] = pd.to_datetime(df[\"fecha_votacion\"],dayfirst=True, errors=\"coerce\")\n",
    "\n",
    "\n",
    "\n",
    "\n",
    "\n",
    "\n",
    "\n",
    "\n",
    "\n",
    "\n",
    "\n",
    "\n",
    "\n",
    "\n",
    "\n"
   ]
  },
  {
   "cell_type": "markdown",
   "id": "4f7902b5",
   "metadata": {},
   "source": [
    "***ACTIVIAD 4***"
   ]
  },
  {
   "cell_type": "code",
   "execution_count": null,
   "id": "432c0902",
   "metadata": {},
   "outputs": [],
   "source": []
  },
  {
   "cell_type": "markdown",
   "id": "050ede0a",
   "metadata": {},
   "source": [
    "***ACTIVIDAD 5***"
   ]
  },
  {
   "cell_type": "code",
   "execution_count": null,
   "id": "eb44bde3",
   "metadata": {},
   "outputs": [],
   "source": []
  },
  {
   "cell_type": "markdown",
   "id": "c8aa7912",
   "metadata": {},
   "source": [
    "***ACTIVIDAD 6***"
   ]
  },
  {
   "cell_type": "code",
   "execution_count": null,
   "id": "3490164e",
   "metadata": {},
   "outputs": [],
   "source": []
  }
 ],
 "metadata": {
  "kernelspec": {
   "display_name": ".venv",
   "language": "python",
   "name": "python3"
  },
  "language_info": {
   "codemirror_mode": {
    "name": "ipython",
    "version": 3
   },
   "file_extension": ".py",
   "mimetype": "text/x-python",
   "name": "python",
   "nbconvert_exporter": "python",
   "pygments_lexer": "ipython3",
   "version": "3.12.9"
  }
 },
 "nbformat": 4,
 "nbformat_minor": 5
}
